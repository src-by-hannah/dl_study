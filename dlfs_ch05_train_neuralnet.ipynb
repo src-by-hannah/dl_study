{
 "cells": [
  {
   "cell_type": "markdown",
   "metadata": {},
   "source": [
    "# 신경망 학습 단계\n",
    "<br><br>\n",
    "<b>1. 1단계 - 미니배치</b>\n",
    "\n",
    ": 훈련셋 중 일부를 무작위로 가져옴\n",
    "\n",
    ": 미니배치의 손실 함수 값을 줄이는 것이 목표<br><br>\n",
    "\n",
    "<b>2. 2단계 - gradient 계산</b>\n",
    "\n",
    ": 미니배치의 손실 함수 값을 줄이기 위해 각 가중치 매개변수의 gradient 계산\n",
    "\n",
    ": gradient는 손실 함수의 값을 가장 작게 하는 방향을 제시함<br><br>\n",
    "\n",
    "<b>3. 3단계 - 매개변수 갱신</b>\n",
    "\n",
    ": 가중치 매개변수를 기울기 방향으로 아주 조금 갱신(gradient discent)<br><br>\n",
    "\n",
    "<b>4. 4단계 - 반복</b>\n",
    "\n",
    "<br><br><br><br>\n",
    "\n"
   ]
  },
  {
   "cell_type": "code",
   "execution_count": null,
   "metadata": {},
   "outputs": [],
   "source": []
  }
 ],
 "metadata": {
  "kernelspec": {
   "display_name": "Python 3",
   "language": "python",
   "name": "python3"
  },
  "language_info": {
   "codemirror_mode": {
    "name": "ipython",
    "version": 3
   },
   "file_extension": ".py",
   "mimetype": "text/x-python",
   "name": "python",
   "nbconvert_exporter": "python",
   "pygments_lexer": "ipython3",
   "version": "3.8.3"
  },
  "toc": {
   "base_numbering": 1,
   "nav_menu": {},
   "number_sections": true,
   "sideBar": true,
   "skip_h1_title": false,
   "title_cell": "Table of Contents",
   "title_sidebar": "Contents",
   "toc_cell": false,
   "toc_position": {},
   "toc_section_display": true,
   "toc_window_display": false
  }
 },
 "nbformat": 4,
 "nbformat_minor": 4
}
