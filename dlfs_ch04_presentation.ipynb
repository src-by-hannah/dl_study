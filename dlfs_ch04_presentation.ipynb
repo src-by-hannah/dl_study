{
 "cells": [
  {
   "cell_type": "markdown",
   "metadata": {},
   "source": [
    "# <b>신경망 학습</b></h1>\n",
    "<br>#학습 #손실함수 <br><br>\n",
    "학습 : 훈련 데이터로부터 가중치 매개변수의 최적값을 자동으로 획득하는 것\n",
    "손실함수 : 신경망이 학습할 수 있도록 해주는 지표. / (목표) 결과값을 가장 작게 만드는 가중치 매개변수를 찾는 것(method ex. 경사법) <br><br>\n"
   ]
  },
  {
   "cell_type": "markdown",
   "metadata": {
    "cell_style": "center"
   },
   "source": [
    "## <b>데이터에서 학습한다!</b><br>\n",
    "### <b>데이터 주도 학습</b><br><br>\n",
    "<img src = \".\\deep_learning_images\\fig 4-2.png\" height = 40% width = 40% align = \"center\">\n",
    "<div style=\"text-align: center\"><span style = 'color : silver; font-size : 13px'>[그림 4-2] 사람, 기계, 신경망의 학습 방식</span></div>\n",
    "<br>\n",
    "\n",
    "<span style = 'color : black; background : skyblue; padding : 2px; font-weight : bold'>\n",
    "    1. 사람 \n",
    "</span><br>\n",
    "\n",
    "\n",
    ": 경험과 직관을 단서로 시행착오를 거듭하며 일을 진행 <br>\n",
    ": 즉, 다소 복잡한 프로세스로 진행 <br><br>\n",
    "\n",
    "<span style = 'color : black; background : skyblue; padding : 2px; font-weight : bold'>\n",
    "    2. ML \n",
    "</span><br>\n",
    "\n",
    "\n",
    ": 사람의 개입을 최소화하고 수집한 데이터로부터 \"패턴\"을 찾으려 시도 <br>\n",
    ": 학습을 진행하며 패턴을 찾아냄 <br>\n",
    ": but, feature는 사람이 설계한다는 한계가 있음 <br>\n",
    "\n",
    "> <b>어떻게 패턴을 찾을까?</b>\n",
    ">> ex. feature 추출<br>\n",
    ">>: feauter란, 입력 데이터에서 본질적인 데이터를 정확하게 추출할 수 있도록 설계된 변환기<br>\n",
    ">>: 이미지의 특징은 보통 벡터로 기술<br>\n",
    ">>: 컴퓨터 비전 분야에서는 SIFT, SURF, HOG 등의 특징을 많이 사용<br>\n",
    "\n",
    "\n",
    "<br>\n",
    "<span style = 'color : black; background : skyblue; padding : 2px; font-weight : bold'>\n",
    "    3. DL\n",
    "</span><br>\n",
    "\n",
    "\n",
    ": = 종단간 기계학습(end-to-end ML) <br>\n",
    ": 즉, 데이터(입력)에서 목표한 결과(출력)를 사람의 개입 없이 얻음 <br><br><br>\n",
    "\n",
    "### <b>훈련 데이터와 시험 데이터</b><br><br>\n",
    "<span style = 'color : black; background : skyblue; padding : 2px; font-weight : bold'>\n",
    "    1. 훈련 데이터  \n",
    "    <span style = 'font-weight : normal'>\n",
    "        (training data)\n",
    "    </span> \n",
    "</span><br>\n",
    "\n",
    "\n",
    ": 최적의 매개변수를 찾음 (모델 학습 진행)<br><br>\n",
    "\n",
    "<span style = 'color : black; background : skyblue; padding : 2px; font-weight : bold'>\n",
    "    2. 시험 데이터  \n",
    "    <span style = 'font-weight : normal'>\n",
    "        (test data)\n",
    "    </span> \n",
    "</span><br>\n",
    "\n",
    "\n",
    ": 훈련한 모델의 실력을 평가\n",
    "\n",
    "> <b>왜 훈련셋과 시험셋을 나눌까?</b><br><br>\n",
    ">: 범용적으로 사용할 수 있는 모델인지 \"범용 능력(= 새로운 문제를 올바르게 풀어내는 능력, 기계학습의 목표)\"을 제대로 평가하기 위해\n",
    "\n",
    "> <b>오버피팅(overfitting)</b><br><br>\n",
    ">: 한 데이터셋에만 지나치게 최적화된 상태<br>\n",
    ">: 오버피팅을 피하는 것이 기계학습의 중요한 과제\n",
    "\n",
    "<br>\n"
   ]
  },
  {
   "cell_type": "markdown",
   "metadata": {},
   "source": [
    "## <b>손실 함수</b><br>\n",
    "### <b>평균 제곱 오차</b><br>\n",
    "\n",
    "\n",
    "\n"
   ]
  },
  {
   "cell_type": "markdown",
   "metadata": {},
   "source": [
    "## <b>수치 미분</b><br>\n",
    "### <b>미분...</b><br>\n",
    "\n",
    "\n",
    "<span style = 'color : black; background : skyblue; padding : 2px; font-weight : bold'>\n",
    "    1. 미분\n",
    "</span><br><br>\n",
    ": 미분이란, 한 순간의 \"변화량\"을 표시한 것<br>\n",
    ": 즉, 아래의 [식 4.4]는 x에 대한 f(x)의 변화량을 나타냄<br>\n",
    "\n",
    "<img src = \".\\deep_learning_images\\e 4.4.png\" height = 20% width = 20% align = \"center\">\n",
    "<div style=\"text-align: center\"><span style = 'color : silver; font-size : 13px'>[식 4.4] 미분</span></div>\n",
    "\n",
    "\n",
    "<br>\n",
    "<span style = 'color : black; background : skyblue; padding : 2px; font-weight : bold'>\n",
    "    2. 미분 구현\n",
    "</span><br><br>\n",
    ": 미분 구현의 예 => 정확도가 떨어진다!(안정성이 떨어진다)<br>\n",
    "\n",
    "```python\n",
    "def numerical_diff(f, x) :\n",
    "    h = 10e-50\n",
    "    return (f(x+h) - f(x)) / h\n",
    "```\n",
    "\n",
    "> <b>개선해야 할 점</b><br><br>\n",
    "> <b>1. 반올림 오차(rounding error) 문제</b><br><br>\n",
    "> : 너무 작은 값을 이용하면 컴퓨터로 계산하는데 오차가 발생하게 됨<br><br>\n",
    "> <b>2. 함수 f의 전방 차분</b> <br><br>\n",
    "> : 차분이란, 임의 두점에서의 함수 값들의 차이를 일컬음<br>\n",
    "> : 위의 [식 4.4]의 우변에서, 분자는 차분을 계산하고 있지만, 애당초에 이 계산에는 오차가 존재(수없이 쪼개질 수 있다는 한계)<br>\n",
    "> : 이 한계는 h를 무한히 0으로 좁히는 것이 불가능해 발생<br>\n",
    "> <img src = \".\\deep_learning_images\\fig 4-5.png\" height = 30% width = 30% align = \"center\">\n",
    "> <div style=\"text-align: center\"><span style = 'color : silver; font-size : 13px'>[그림 4-5] 차분의 한계</span></div>\n",
    "\n",
    "> <b>개선 방법</b><br><br>\n",
    "> <b>1. 반올림 오차(rounding error) 문제</b><br><br>\n",
    "> : 일반적으로 \"10e-4\"정도의 값을 사용하면 좋은 결과를 얻는다고 알려져 있음<br><br>\n",
    "> <b>2. 함수 f의 전방 차분</b> <br><br>\n",
    "> : 중심 차분(중앙 차분)을 이용하여 차분 계산 <br>\n",
    "> : 즉, <br>\n",
    "> <div style=\"text-align: center\">$f(x+h) - f(x-h)$</div>\n",
    "\n",
    "<br>: 구현"
   ]
  },
  {
   "cell_type": "code",
   "execution_count": 3,
   "metadata": {
    "ExecuteTime": {
     "end_time": "2021-02-25T05:48:50.582809Z",
     "start_time": "2021-02-25T05:48:50.572554Z"
    },
    "code_folding": []
   },
   "outputs": [],
   "source": [
    "def numerical_diff(f, x) :\n",
    "    h = 10e-4 # h->0\n",
    "    return (f(x+h) - f(x-h)) / (2*h)"
   ]
  },
  {
   "cell_type": "markdown",
   "metadata": {},
   "source": [
    "### <b>수치 미분의 예</b><br>\n",
    "\n",
    "<span style = 'color : black; background : skyblue; padding : 2px; font-weight : bold'>\n",
    "    1. 수치 미분\n",
    "</span><br><br>\n",
    ": 위와 같이 아주 작은 차분으로 미분하는 것<br>\n",
    ": 해석적으로 미분이 안되는 수식(복잡해서)을 해결하기 위해<br>\n",
    ": '근사치', 오차가 존재<br>\n",
    ": 미방에서도 쓰임<br>\n",
    "\n",
    "> cf. <b>해석적 미분</b><br><br>\n",
    "> :  수식을 전개해 미분하는 것<br>\n",
    "> :  오차를 포함하지 않는 '진정한 미분' 값"
   ]
  },
  {
   "cell_type": "code",
   "execution_count": 7,
   "metadata": {
    "ExecuteTime": {
     "end_time": "2021-02-25T05:51:33.088531Z",
     "start_time": "2021-02-25T05:51:32.400733Z"
    },
    "code_folding": []
   },
   "outputs": [
    {
     "data": {
      "image/png": "[encoded data removed]",
      "text/plain": [
       "<Figure size 432x288 with 1 Axes>"
      ]
     },
     "metadata": {},
     "output_type": "display_data"
    },
    {
     "name": "stdout",
     "output_type": "stream",
     "text": [
      "x = 5일 때, y = 10.100000000003106\n",
      "x = 10일 때, y = 20.099999999992235\n"
     ]
    }
   ],
   "source": [
    "'''\n",
    "# 수치 미분 예제\n",
    "# y = 0.01x^2 + 0.1x\n",
    "'''\n",
    "import numpy as np\n",
    "import matplotlib as mpl\n",
    "import matplotlib.pylab as plt\n",
    "\n",
    "# 예. y = 0.01x^2 + 0.1x\n",
    "def func_1(x) :\n",
    "    return x**2 + 0.1*x\n",
    "\n",
    "x = np.arange(0.0, 5.0, 0.1) # array size : 20, 간격 : 0.1\n",
    "y = func_1(x)\n",
    "\n",
    "# draw y = 0.01x^2 + 0.1x\n",
    "plt.style.use(['dark_background'])\n",
    "plt.xlabel('x')\n",
    "plt.ylabel('f(x)')\n",
    "plt.plot(x, y)\n",
    "plt.plot(x, numerical_diff(func_1, x))\n",
    "\n",
    "\n",
    "# Update\n",
    "plt.show()\n",
    "\n",
    "# 수치미분\n",
    "print(\"x = 5일 때, y =\", numerical_diff(func_1, 5))\n",
    "print(\"x = 10일 때, y =\", numerical_diff(func_1, 10))"
   ]
  },
  {
   "cell_type": "code",
   "execution_count": 31,
   "metadata": {
    "ExecuteTime": {
     "end_time": "2021-02-24T09:11:57.393208Z",
     "start_time": "2021-02-24T09:11:56.472674Z"
    }
   },
   "outputs": [
    {
     "data": {
      "image/png": "[encoded data removed]",
      "text/plain": [
       "<Figure size 432x288 with 4 Axes>"
      ]
     },
     "metadata": {},
     "output_type": "display_data"
    }
   ],
   "source": [
    "'''\n",
    "# 접선 포함하여 그리기\n",
    "'''\n",
    "def tangent_line(f, x):\n",
    "    d = numerical_diff(f, x)\n",
    "    y = f(x) - d * x\n",
    "    return lambda t: d * t + y\n",
    "\n",
    "tf1 = tangent_line(func_1, 5)\n",
    "y2 = tf1(x)\n",
    "\n",
    "tf2 = tangent_line(func_1, 10)\n",
    "y3 = tf2(x)\n",
    "\n",
    "# draw\n",
    "plt.xlabel(\"x\")\n",
    "plt.ylabel(\"f(x)\")\n",
    "\n",
    "# x = 5일 때\n",
    "plt.subplot(2, 2, 1)\n",
    "plt.plot(x, y)\n",
    "plt.plot(x, y2)\n",
    "\n",
    "plt.subplot(2, 2, 2)\n",
    "plt.xlim(4.5, 5.5)\n",
    "plt.ylim(tf1(4.5), tf1(5.5))\n",
    "plt.plot(x, y)\n",
    "plt.plot(x, y2)\n",
    "\n",
    "# x = 10일 때\n",
    "plt.subplot(2, 2, 3)\n",
    "plt.plot(x, y)\n",
    "plt.plot(x, y3)\n",
    "\n",
    "plt.subplot(2, 2, 4)\n",
    "plt.xlim(9.5, 10.5)\n",
    "plt.ylim(tf2(9.5), tf2(10.5))\n",
    "plt.plot(x, y)\n",
    "plt.plot(x, y3)\n",
    "\n",
    "# Update\n",
    "plt.show()"
   ]
  },
  {
   "cell_type": "markdown",
   "metadata": {},
   "source": [
    "### <b>편미분</b><br>\n",
    "\n",
    "<span style = 'color : black; background : skyblue; padding : 2px; font-weight : bold'>\n",
    "    1. 편미분\n",
    "</span><br><br>\n",
    ": 다변수 함수의 특정 변수를 제외한 나머지 변수를 상수로 생각하여 미분<br>\n",
    ": 특정 장소의 기울기를 구함<br><br>\n",
    "\n",
    "<img src = https://t1.daumcdn.net/cfile/tistory/99FF48445CAB2E301B height = 20% width = 20% align = \"center\">\n",
    "<div style=\"text-align: center\"><span style = 'color : silver; font-size : 13px'>편미분의 정의</span></div><br>\n",
    "\n",
    "<span style = 'color : black; background : skyblue; padding : 2px; font-weight : bold'>\n",
    "    2. 예\n",
    "</span><br>\n",
    "<img src = \".\\deep_learning_images\\e 4.6.png\" height = 15% width = 15% align = \"center\">\n",
    "<div style=\"text-align: center\"><span style = 'color : silver; font-size : 13px'>[식 4.6]</span></div>\n",
    "<img src = \".\\deep_learning_images\\fig 4-8.png\" height = 30% width = 30% align = \"center\">\n",
    "<div style=\"text-align: center\"><span style = 'color : silver; font-size : 13px'>[그림 4-8][식 4.6]의 그래프</span></div>"
   ]
  },
  {
   "cell_type": "code",
   "execution_count": 34,
   "metadata": {
    "ExecuteTime": {
     "end_time": "2021-02-24T11:13:57.269602Z",
     "start_time": "2021-02-24T11:13:57.256638Z"
    }
   },
   "outputs": [
    {
     "name": "stdout",
     "output_type": "stream",
     "text": [
      "x0 = 3, x1 = 4일 때, x_0에 대한 편미분 결과 :  5.999999999998451\n",
      "x0 = 3, x1 = 4일 때, x_1에 대한 편미분 결과 :  8.000000000000895\n"
     ]
    }
   ],
   "source": [
    "'''\n",
    "# 편미분 예제\n",
    "'''\n",
    "\n",
    "# 문제 1 : x0 = 3, x1 = 4일 때, x_0에 대한 편미분\n",
    "def func_tmp1(x0) :\n",
    "    return x0*x0 + 4.0**2.0 # x0^2 + 4^2 (cuz, x1=4)\n",
    "\n",
    "# 문제 2 : x0 = 3, x1 = 4일 때, x_1에 대한 편미분\n",
    "def func_tmp2(x1) :\n",
    "    return 3.0**2.0 + x1*x1 # 3^2 + x1^2 (cuz, x0=3)\n",
    "\n",
    "print(\"x0 = 3, x1 = 4일 때, x_0에 대한 편미분 결과 : \", numerical_diff(func_tmp1, 3.0))\n",
    "print(\"x0 = 3, x1 = 4일 때, x_1에 대한 편미분 결과 : \", numerical_diff(func_tmp2, 4.0))"
   ]
  },
  {
   "cell_type": "markdown",
   "metadata": {},
   "source": [
    ": 위는 수치 미분의 결과<br>\n",
    ": 해석적 미분의 결과와 근접함\n",
    "<div style = 'text-align : center'>\n",
    "$f(x_0, x_1) = x_0^2 + x_1^2$<br>\n",
    "$⇒ f_{x0} = 2x_0 = 6.0$<br>\n",
    "$⇒ f_{x1} = 2x_1 = 8.0$<br>\n",
    "</div>"
   ]
  },
  {
   "cell_type": "code",
   "execution_count": null,
   "metadata": {},
   "outputs": [],
   "source": []
  }
 ],
 "metadata": {
  "kernelspec": {
   "display_name": "Python 3",
   "language": "python",
   "name": "python3"
  },
  "language_info": {
   "codemirror_mode": {
    "name": "ipython",
    "version": 3
   },
   "file_extension": ".py",
   "mimetype": "text/x-python",
   "name": "python",
   "nbconvert_exporter": "python",
   "pygments_lexer": "ipython3",
   "version": "3.8.3"
  },
  "toc": {
   "base_numbering": 1,
   "nav_menu": {},
   "number_sections": true,
   "sideBar": true,
   "skip_h1_title": false,
   "title_cell": "Table of Contents",
   "title_sidebar": "Contents",
   "toc_cell": false,
   "toc_position": {
    "height": "calc(100% - 180px)",
    "left": "10px",
    "top": "150px",
    "width": "384px"
   },
   "toc_section_display": true,
   "toc_window_display": false
  }
 },
 "nbformat": 4,
 "nbformat_minor": 4
}
