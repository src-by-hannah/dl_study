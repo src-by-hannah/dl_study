{
 "cells": [
  {
   "cell_type": "markdown",
   "metadata": {},
   "source": [
    "# <b>합성곱 신경망(CNN)</b>\n",
    "<br><br>\n",
    "## <b>전체 구조</b>\n",
    "\n",
    "<br><br>\n",
    "\n",
    "<span style = 'color : black; background : skyblue; padding : 2px; font-weight : bold'>\n",
    "    [Review] 완전 연결(fullyconnected, 전결합) \n",
    "</span><br>\n",
    "\n",
    ": 인접한 계층의 모든 뉴런과 결합하는 구조의 신경망\n",
    "\n",
    ": (구현) Affine 계층을 통해\n",
    "\n",
    ": (신경망 구조)\n",
    "<div style=\"text-align: center\"><b>(Affine - 활성화함수) - ...(반복)... - (Affine - Softmax)</b></div>\n",
    "<img src = \".\\deep_learning_images\\fig 7-1.png\" height = 70% width = 70% align = \"center\">\n",
    "<div style=\"text-align: center\"><span style = 'color : silver; font-size : 13px'>완전연결 계층으로 이루어진 네트워크 예</span></div>\n",
    "\n",
    "<br><br>\n",
    "\n",
    "<span style = 'color : black; background : skyblue; padding : 2px; font-weight : bold'>\n",
    "    1. CNN(합성곱 신경망) \n",
    "</span><br>\n",
    "\n",
    ": (신경망 구조)\n",
    "\n",
    "- Pooling은 생략 가능\n",
    "- 출력 계층에 가까운 층은 (Affine - 활성화함수) / (Affine - Softmax) 사용 가능\n",
    "\n",
    "<br><br>\n",
    "\n",
    "<div style=\"text-align: center\"><b>(Conv - 활성화함수 - Pooling) - ...(반복)... - (Affine - Softmax)</b></div>\n",
    "<img src = \".\\deep_learning_images\\fig 7-2.png\" height = 70% width = 70% align = \"center\">\n",
    "<div style=\"text-align: center\"><span style = 'color : silver; font-size : 13px'>CNN으로 이루어진 네트워크 예</span></div>\n",
    "\n",
    "\n",
    "<br><br>"
   ]
  },
  {
   "cell_type": "markdown",
   "metadata": {},
   "source": [
    "\n",
    "## <b>CNN 시각화 하기</b>\n",
    "<br><br>\n",
    "\n",
    "<span style = 'color : black; background : skyblue; padding : 2px; font-weight : bold'>\n",
    "    1. CNN이 보고있는 것은 무엇인가? \n",
    "</span><br>\n",
    "\n",
    ": 계층이 깊어질수록 복잡하고 추상화된 정보가 추출됨\n",
    "\n",
    ": 즉, 단순한 모양에서 '고급 정보'로 변화\n",
    "\n",
    ": 다시 말해, 사물의 '의미'를 이해하도록 변화\n",
    "\n",
    ": ex) AlexNet\n",
    "<div style=\"text-align: center\">단순한 엣지(경계선), 블롭(국소적으로 덩어리 진 영역)</div>\n",
    "<br>\n",
    "<div style=\"text-align: center\"><b>▼</b></div>\n",
    "<br>\n",
    "<div style=\"text-align: center\">Texture</div>\n",
    "<br>\n",
    "<div style=\"text-align: center\"><b>▼</b></div>\n",
    "<br>\n",
    "<div style=\"text-align: center\">사물의 일부에 반응</div>\n",
    "<br>\n",
    "<img src = \".\\deep_learning_images\\fig 7-26.png\" height = 70% width = 70% align = \"center\">\n",
    "<div style=\"text-align: center\"><span style = 'color : silver; font-size : 13px'>AlexNet 각 층을 시각화</span></div>"
   ]
  },
  {
   "cell_type": "code",
   "execution_count": 3,
   "metadata": {
    "ExecuteTime": {
     "end_time": "2021-03-18T01:10:58.079995Z",
     "start_time": "2021-03-18T01:10:55.149446Z"
    },
    "collapsed": true
   },
   "outputs": [
    {
     "data": {
      "image/png": "[encoded data removed]",
      "text/plain": [
       "<Figure size 432x288 with 30 Axes>"
      ]
     },
     "metadata": {},
     "output_type": "display_data"
    },
    {
     "data": {
      "image/png": "[encoded data removed]",
      "text/plain": [
       "<Figure size 432x288 with 30 Axes>"
      ]
     },
     "metadata": {},
     "output_type": "display_data"
    }
   ],
   "source": [
    "# MNIST 예제 첫 번재 층의 가중치 시각화 하기\n",
    "# FILTER == 30개, 5X5, 1채널(회색조)\n",
    "\n",
    "import numpy as np\n",
    "import matplotlib.pyplot as plt\n",
    "from simple_convnet import SimpleConvNet\n",
    "\n",
    "\n",
    "def filter_show(filters, nx=8, margin=3, scale=10):\n",
    "    \"\"\"\n",
    "    c.f. https://gist.github.com/aidiary/07d530d5e08011832b12#file-draw_weight-py\n",
    "    \"\"\"\n",
    "    FN, C, FH, FW = filters.shape\n",
    "    ny = int(np.ceil(FN / nx))\n",
    "\n",
    "    fig = plt.figure()\n",
    "    fig.subplots_adjust(left=0,\n",
    "                        right=1,\n",
    "                        bottom=0,\n",
    "                        top=1,\n",
    "                        hspace=0.05,\n",
    "                        wspace=0.05)\n",
    "\n",
    "    for i in range(FN):\n",
    "        ax = fig.add_subplot(ny, nx, i + 1, xticks=[], yticks=[])\n",
    "        ax.imshow(filters[i, 0], cmap=plt.cm.gray_r, interpolation='nearest')\n",
    "    plt.show()\n",
    "\n",
    "\n",
    "network = SimpleConvNet()\n",
    "# 무작위(랜덤) 초기화 후의 가중치\n",
    "filter_show(network.params['W1'])\n",
    "\n",
    "# 학습된 가중치\n",
    "network.load_params(\"params.pkl\")\n",
    "filter_show(network.params['W1'])"
   ]
  },
  {
   "cell_type": "markdown",
   "metadata": {},
   "source": [
    "## <b>대표적인 CNN Network</b>\n",
    "<br><br>\n",
    "\n",
    "<span style = 'color : black; background : skyblue; padding : 2px; font-weight : bold'>\n",
    "    1. LeNet\n",
    "</span><br>\n",
    "\n",
    ": 1998년에 소개\n",
    "\n",
    ": 손글씨 숫자를 인식하는 네트워크\n",
    "\n",
    ": 특징\n",
    "\n",
    "- 활성화 함수로 sigmoid 사용\n",
    "\n",
    "- subsampling하여 중간 데이터 크기를 줄임\n",
    "\n",
    "<br>\n",
    ": 구조\n",
    "\n",
    "<img src = \".\\deep_learning_images\\fig 7-27.png\" height = 70% width = 70% align = \"center\">\n",
    "<div style=\"text-align: center\"><span style = 'color : silver; font-size : 13px'>LeNet 구조</span></div>\n",
    "\n",
    "\n",
    "<span style = 'color : black; background : skyblue; padding : 2px; font-weight : bold'>\n",
    "    2. AlexNet\n",
    "</span><br>\n",
    "\n",
    ": 2012년에 발표\n",
    "\n",
    ": 특징\n",
    "\n",
    "- 활성화 함수로 ReLU 사용\n",
    "\n",
    "- LRN(Local Response Normalization)이라는 국소적 정규화를 실시하는 계층을 이용함\n",
    "\n",
    "- dropout을 사용\n",
    "\n",
    "<br>\n",
    ": 구조\n",
    "\n",
    "- 8개의 레이어로 구성됨 (5개의 conv layer / 3개의 full-connexted layer)\n",
    "\n",
    "<br>\n",
    "<img src = \".\\deep_learning_images\\fig 7-28.png\" height = 70% width = 70% align = \"center\">\n",
    "<div style=\"text-align: center\"><span style = 'color : silver; font-size : 13px'>AlexNet 구조</span></div>\n",
    "\n",
    "<br>\n",
    "<img src = \"https://t1.daumcdn.net/cfile/tistory/99FEB93C5C80B5192E\" height = 70% width = 70% align = \"center\">\n",
    "<div style=\"text-align: center\"><span style = 'color : silver; font-size : 13px'>AlexNet 구조(GPU를 활용하여 병렬처리)</span></div>"
   ]
  },
  {
   "cell_type": "code",
   "execution_count": null,
   "metadata": {},
   "outputs": [],
   "source": []
  }
 ],
 "metadata": {
  "kernelspec": {
   "display_name": "Python 3",
   "language": "python",
   "name": "python3"
  },
  "language_info": {
   "codemirror_mode": {
    "name": "ipython",
    "version": 3
   },
   "file_extension": ".py",
   "mimetype": "text/x-python",
   "name": "python",
   "nbconvert_exporter": "python",
   "pygments_lexer": "ipython3",
   "version": "3.8.3"
  },
  "toc": {
   "base_numbering": 1,
   "nav_menu": {},
   "number_sections": true,
   "sideBar": true,
   "skip_h1_title": false,
   "title_cell": "Table of Contents",
   "title_sidebar": "Contents",
   "toc_cell": false,
   "toc_position": {},
   "toc_section_display": true,
   "toc_window_display": false
  }
 },
 "nbformat": 4,
 "nbformat_minor": 4
}
